{
  "cells": [
    {
      "cell_type": "raw",
      "metadata": {},
      "source": [
        "---\n",
        "title: \"Population Distributions\"\n",
        "format:\n",
        "  html:\n",
        "    toc: false\n",
        "    echo: false\n",
        "    keep-hidden: true\n",
        "    code-tools: true\n",
        "---"
      ],
      "id": "d1c1f7b3"
    },
    {
      "cell_type": "markdown",
      "metadata": {},
      "source": [
        "In statistics, we use the phrase *population* to refer to the group of folks/organizations/countries we are interested in studying. The population does not necessarily imply that we are talking about all of the countries in the world or all of the citizens in a given jurisdiction. It really is just the group of interest. \n",
        "\n",
        "For example, say that I am interested in studying Black Americans' political attitudes on federal taxes. My population of interest would not include non-Black Americans. Another example would be that if I wanted to understand the voting intentions for American voters, my population does not include every American as there are a number of disenfranchised populations that are not allowed to vote. If I want to examine whether the EU decreased interstate conflict between those countries, I would not include countries outside of the EU in my analysis.\n",
        "\n",
        "## Population distribution\n"
      ],
      "id": "816afd4f"
    },
    {
      "cell_type": "code",
      "metadata": {},
      "source": [
        "#| label: setup-block\n",
        "# Import needed functions\n",
        "import plotly.express as px # for making plotly histograms\n",
        "import pandas as pd # for manipulating pd.DataFrame objects\n",
        "# Import needed objects\n",
        "from inference_data import population_N, population_data # to access population distribution data\n",
        "# Convert to ojs object\n",
        "ojs_define(population_data = population_data)"
      ],
      "id": "setup-block",
      "execution_count": null,
      "outputs": []
    },
    {
      "cell_type": "code",
      "metadata": {},
      "source": [
        "#| label: print-N\n",
        "#| output: asis\n",
        "# Print calculated percentage of example\n",
        "print(\"Let's try visualizing this. Say that we have identified a population that we are interested in studying that has {:.0f}\".format(population_N) + \" people in it (N = {:.0f}\".format(population_N) +\")\")"
      ],
      "id": "print-N",
      "execution_count": null,
      "outputs": []
    },
    {
      "cell_type": "markdown",
      "metadata": {},
      "source": [
        "Say we want to analyze three characteristics (variables) of observations in the population. [@fig-population-distribution] displays the distribution of our population if we *could* collect all of the data. In practice, this is often theoretical (based on our expertise). Meaning, we rarely are able to collect data on our full population.\n",
        "\n",
        "\n",
        "```{ojs}\n",
        "//| label: fig-population-distribution\n",
        "//| fig-cap: Population Distributions\n",
        "//| fig-subcap:\n",
        "//|  - Normal distribution\n",
        "//|  - Poisson distribution\n",
        "//|  - Binomial distribution\n",
        "Plot.plot({\n",
        "    grid: true,\n",
        "    marks: [\n",
        "        Plot.frame(),\n",
        "        Plot.rectY(\n",
        "            transpose(population_data),\n",
        "            Plot.binX(\n",
        "                {y: \"count\"},\n",
        "                {x: \"data.normal\",\n",
        "                    fill:\"#D3D3D3\",\n",
        "                    strokeWidth: 0.5,\n",
        "                    stroke: \"#000000\",\n",
        "                    thresholds: 10}\n",
        "            ))\n",
        "    ]\n",
        "})\n",
        "Plot.plot({\n",
        "  grid: true,\n",
        "  marks: [\n",
        "    Plot.frame(),\n",
        "    Plot.rectY(transpose(population_data), Plot.binX(\n",
        "      {y: \"count\"},\n",
        "      {x: \"data.poisson\",\n",
        "       fill: \"#D3D3D3\",\n",
        "       strokeWidth: .5, // linewidth = 0.5\n",
        "       stroke: \"#000000\", // equivalent of edgecolor=\"black\"\n",
        "       thresholds: 10 // equivalent of \"bins=10\"\n",
        "      }\n",
        "    ))\n",
        "  ]\n",
        "})\n",
        "Plot.plot({\n",
        "  grid: true,\n",
        "  marks: [\n",
        "    Plot.frame(),\n",
        "    Plot.rectY(transpose(population_data), Plot.binX(\n",
        "      {y: \"count\"},\n",
        "      {x: \"data.binomial\",\n",
        "       fill: \"#D3D3D3\",\n",
        "       strokeWidth: .5, // linewidth = 0.5\n",
        "       stroke: \"#000000\", // equivalent of edgecolor=\"black\"\n",
        "       thresholds: 10 // equivalent of \"bins=10\"\n",
        "      }\n",
        "    ))\n",
        "  ]\n",
        "})\n",
        "```\n",
        "\n",
        "\n",
        "Just for our records, let's calculate the `mean` and the `standard deviation` of each variable for our population. Again, we are rarely ever able to actually do this.\n"
      ],
      "id": "0bf68fe3"
    },
    {
      "cell_type": "code",
      "metadata": {},
      "source": [
        "#| label: print-data.normal-n\n",
        "#| output: asis\n",
        "print(\n",
        "    \"Normal distribution variable mean: {:.0f}\".format(population_data[\"data.normal\"].mean()) + \", standard deviation: {:.0f}\".format(population_data[\"data.normal\"].std())\n",
        ")"
      ],
      "id": "print-datanormal-n",
      "execution_count": null,
      "outputs": []
    },
    {
      "cell_type": "code",
      "metadata": {},
      "source": [
        "#| label: print-data.poisson-n\n",
        "#| output: asis\n",
        "print(\n",
        "    \"Poisson distribution variable mean: {:.0f}\".format(population_data[\"data.poisson\"].mean()) + \", standard deviation: {:.0f}\".format(population_data[\"data.poisson\"].std()),\n",
        ")"
      ],
      "id": "print-datapoisson-n",
      "execution_count": null,
      "outputs": []
    },
    {
      "cell_type": "code",
      "metadata": {},
      "source": [
        "#| label: print-data.binomial-n\n",
        "#| output: asis\n",
        "print(\n",
        "    \"Binomial distribution variable mean: {:.0f}\".format(population_data[\"data.binomial\"].mean()) + \", standard deviation: {:.0f}\".format(population_data[\"data.binomial\"].std())\n",
        ")"
      ],
      "id": "print-databinomial-n",
      "execution_count": null,
      "outputs": []
    }
  ],
  "metadata": {
    "kernelspec": {
      "name": "python3",
      "language": "python",
      "display_name": "Python 3 (ipykernel)"
    }
  },
  "nbformat": 4,
  "nbformat_minor": 5
}